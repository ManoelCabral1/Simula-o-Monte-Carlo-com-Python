{
 "cells": [
  {
   "cell_type": "markdown",
   "metadata": {},
   "source": [
    "## Introdução\n",
    "Existem muitos modelos sofisticados que as pessoas podem construir para resolver um problema de previsão. No entanto, eles costumam se limitar a modelos simples do Excel com base em valores históricos médios, intuição e algumas heurísticas específicas de domínio de alto nível. Essa abordagem pode ser precisa o suficiente para o problema em questão, mas existem alternativas que podem adicionar mais informações à previsão com uma quantidade razoável de esforço adicional.\n",
    "\n",
    "Uma abordagem que pode produzir uma melhor compreensão da gama de resultados potenciais e ajudar a evitar a “ falha das médias ” é uma simulação de Monte Carlo . O restante deste artigo descreverá como usar python com pandas e numpy para construir uma simulação de Monte Carlo para prever a faixa de valores potenciais para um orçamento de compensação de vendas. \n",
    "\n",
    "### Histórico do problema\n",
    "Para este exemplo, tentaremos prever quanto dinheiro devemos orçar para as comissões de vendas para o próximo ano. Este problema é útil para modelagem porque temos uma fórmula definida para calcular as comissões e provavelmente temos alguma experiência com o pagamento de comissões de anos anteriores.\n",
    "\n",
    "Esse problema também é importante do ponto de vista de negócios. As comissões de vendas podem ser uma grande despesa de vendas e é importante planejar adequadamente para essas despesas. Além disso, o uso de uma simulação de Monte Carlo é uma melhoria relativamente simples que pode ser feita para aumentar o que normalmente é um processo de estimativa não sofisticado.\n",
    "\n",
    "Neste exemplo, a comissão de vendas de amostra seria assim para uma equipe de vendas de 5 pessoas:\n",
    "\n",
    "|Vendedor|Meta de Vendas|Vendas Atual|Vendas Atual(%)|Taxa de comissão|montante de comissão|\n",
    "|:------:|:------------:|:----------:|:-------------:|:--------------:|:------------------:|\n",
    "|1       |R$ 100.000   |R\\$ 88.000  |88,0%          |2%              |R\\$ 1.760           |\n",
    "|2       |R\\$ 200.000   |R\\$ 202.000 |88,0%          |4%              |R\\$ 8.080           |\n",
    "|3       |R\\$ 75.000    |R\\$ 90.000  |120,0%         |4%              |R\\$ 3.600           |\n",
    "|4       |R\\$ 400.000   |R\\$ 360.000 |90,0%          |0               |R\\$ 0               |\n",
    "|5       |R\\$ 500.000   |R\\$ 350.000 |70,0%          |0               |R\\$ 0               |\n",
    "|total   |R\\$ 1.275.000 |R\\$ 1.090.000|              |                |R\\$ 13.440          |\n",
    "\n",
    "\n",
    "Neste exemplo, a comissão é o resultado desta fórmula:\n",
    "\n",
    "**Valor da comissão = Vendas reais * Taxa de comissão**\n",
    "\n",
    "A taxa de comissão é baseada nesta tabela de porcentagem para o plano:\n",
    "\n",
    "|Taxa de|comissão|\n",
    "|:-----:|:------:|\n",
    "|0 - 90%| 2%     |\n",
    "|91-99% |3%      |\n",
    "|>= 100%|4%      |\n",
    "\n",
    "ntes de construir um modelo e executar a simulação, vamos dar uma olhada em uma abordagem simples para prever as despesas de comissão do próximo ano.\n",
    "\n",
    "### Abordagem ingênua para o problema\n",
    "Imagine que sua tarefa como analista é dizer ao setor financeiro quanto deve ser orçado para as comissões de vendas para o próximo ano. Uma abordagem pode ser presumir que todos atingem 100% de sua meta e ganham a taxa de comissão de 4%. Conectar esses valores ao Excel resulta em:\n",
    "\n",
    "|Vendedor|Meta de Vendas|Vendas Atual|Vendas Atual(%)|Taxa de comissão|montante de comissão|\n",
    "|:------:|:------------:|:----------:|:-------------:|:--------------:|:------------------:|\n",
    "|1       |R\\$ 100.000   |R\\$ 100.000 |100,0%         |4%              |R\\$ 4.000           |\n",
    "|2       |R\\$ 200.000   |R\\$ 200.000 |100,0%         |4%              |R\\$ 8.000           |\n",
    "|3       |R\\$ 75.000    |R\\$ 75.000  |100,0%         |4%              |R\\$ 3.000           |\n",
    "|4       |R\\$ 400.000   |R\\$ 400.000 |100,0%         |4%              |R\\$ 16.000          |\n",
    "|5       |R\\$ 500.000   |R\\$ 500.000 |100,0%         |4%              |R\\$ 20.000          |\n",
    "|total   |R\\$ 1.275.000 |R\\$ 1.275.000|              |                |R\\$ 51.000          |\n",
    "\n",
    "Imagine que você apresente isso para o departamento de finanças e eles digam: “Nunca recebemos a mesma taxa de comissão para todos. Precisamos de um modelo mais preciso. ”\n",
    "\n",
    "Para a segunda rodada, você pode tentar alguns intervalos:\n",
    "\n",
    "|Vendedor|Meta de Vendas|Vendas Atual|Vendas Atual(%)|Taxa de comissão|montante de comissão|\n",
    "|:------:|:------------:|:----------:|:-------------:|:--------------:|:------------------:|\n",
    "|1       |R\\$ 100.000   |R\\$ 105.000 |105,0%         |4%              |R\\$ 4.200           |\n",
    "|2       |R\\$ 200.000   |R\\$ 140.000 |70,0%          |2%              |R\\$ 2.800           |\n",
    "|3       |R\\$ 75.000    |R\\$ 74.250  |99,0%          |3%              |R\\$ 2.228           |\n",
    "|4       |R\\$ 400.000   |R\\$ 352.000 |88,0%          |2%              |R\\$ 7.040           |\n",
    "|5       |R\\$ 500.000   |R\\$ 550.000 |110,0%         |4%              |R\\$ 22.000          |\n",
    "|total   |R\\$ 1.275.000 |R\\$ 1.275.000|              |                |R\\$ 38.268          |\n",
    "\n",
    "Ou outro:\n",
    "\n",
    "|Vendedor|Meta de Vendas|Vendas Atual|Vendas Atual(%)|Taxa de comissão|montante de comissão|\n",
    "|:------:|:------------:|:----------:|:-------------:|:--------------:|:------------------:|\n",
    "|1       |R\\$ 100.000   |R\\$ 95.000  |95,0%          |3%              |R\\$ 2.850           |\n",
    "|2       |R\\$ 200.000   |R\\$ 204.000 |102,0%         |4%              |R\\$ 8.160           |\n",
    "|3       |R\\$ 75.000    |R\\$ 60.000  |80,0%          |2%              |R\\$ 1.200           |\n",
    "|4       |R\\$ 400.000   |R\\$ 480.000 |120,0%         |4%              |R\\$ 19.200          |\n",
    "|5       |R\\$ 500.000   |R\\$ 400.000 |80,0%          |2%              |R\\$ 8.000           |\n",
    "|total   |R\\$ 1.275.000 |R\\$ 1.275.000|              |                |R\\$ 39.410          |\n",
    "\n",
    "gora, você tem um pouco mais de informação e volte para finanças. Desta vez, o departamento de finanças diz: “este intervalo é útil, mas qual é a sua confiança neste intervalo? Além disso, precisamos que você faça isso para uma força de vendas de 500 pessoas e modele várias taxas diferentes para determinar o valor do orçamento. \n",
    "\n",
    "Esta abordagem simples ilustra o método iterativo básico para uma simulação de Monte Carlo. Você itera esse processo muitas vezes para determinar uma faixa de valores de comissão em potencial para o ano. \n",
    "\n",
    "### Monte carlo\n",
    "Agora que cobrimos o problema em alto nível, podemos discutir como a análise de Monte Carlo pode ser uma ferramenta útil para prever despesas de comissões para o próximo ano. Em seu nível mais simples, uma análise de Monte Carlo (ou simulação) envolve a execução de muitos cenários com diferentes entradas aleatórias e o resumo da distribuição dos resultados.\n",
    "\n",
    "Usando a análise de comissões, podemos continuar o processo manual que iniciamos acima, mas executar o programa 100 ou mesmo 1000 vezes e obteremos uma distribuição dos valores potenciais de comissão. Essa distribuição pode informar a probabilidade de a despesa ficar dentro de uma determinada janela. No final do dia, essa é uma previsão, então provavelmente nunca iremos fazer uma previsão exata. Podemos desenvolver uma ideia mais informada sobre o risco potencial de orçamento insuficiente ou excessivo.\n",
    "\n",
    "Existem dois componentes para executar uma simulação de Monte Carlo:\n",
    "\n",
    "1. a equação para avaliar\n",
    "1. as variáveis ​​aleatórias para a entrada\n",
    "\n",
    "Já descrevemos a equação acima. Agora precisamos pensar sobre como preencher as variáveis ​​aleatórias. Uma suposição razoável é que o percentual de vendas tem distribuição normal com média de 100% e desvio padrão de 10% (para dados reais é aconselhado calcular a média e desvio padrão).\n",
    "\n",
    "### Construindo um modelo Python\n",
    "Podemos usar o pandas para construir um modelo que replique o cálculo da planilha do Excel. Existem outras abordagens do python para construir modelos de Monte Carlo, mas acho que esse método do pandas é conceitualmente mais fácil de compreender se você tiver experiência com o Excel. Ele também tem o benefício adicional de gerar dataframes do pandas que podem ser inspecionados e revisados ​​quanto à sua razoabilidade."
   ]
  },
  {
   "cell_type": "code",
   "execution_count": 1,
   "metadata": {},
   "outputs": [],
   "source": [
    "import pandas as pd\n",
    "import numpy as np\n",
    "import seaborn as sns\n",
    "\n",
    "sns.set_style('whitegrid')"
   ]
  },
  {
   "cell_type": "markdown",
   "metadata": {},
   "source": [
    "Para este modelo, usaremos uma geração de número aleatório de numpy. O aspecto útil do numpy é que existem vários geradores de números aleatórios que podem criar amostras aleatórias com base em uma distribuição predefinida.\n",
    "\n",
    "Conforme descrito acima, sabemos que nosso percentual histórico para atingir o desempenho está centrado em uma média de 100% e desvio padrão de 10%. Vamos definir essas variáveis, bem como o número de representantes de vendas e simulações que estamos modelando:\n",
    "\n"
   ]
  },
  {
   "cell_type": "code",
   "execution_count": 3,
   "metadata": {},
   "outputs": [],
   "source": [
    "média  =  1 \n",
    "std_dev  =  .1 \n",
    "num_reps  =  500 \n",
    "num_simulações  =  1000"
   ]
  },
  {
   "cell_type": "markdown",
   "metadata": {},
   "source": [
    "gora podemos usar numpy para gerar uma lista de porcentagens que replicarão nossa distribuição normal histórica:"
   ]
  },
  {
   "cell_type": "code",
   "execution_count": 6,
   "metadata": {},
   "outputs": [
    {
     "data": {
      "text/plain": [
       "array([0.95, 1.06, 1.01, 0.95, 0.99, 1.01, 1.13, 1.1 , 0.98, 1.04])"
      ]
     },
     "execution_count": 6,
     "metadata": {},
     "output_type": "execute_result"
    }
   ],
   "source": [
    "pct_de_vendas = np.random.normal(média, std_dev, num_reps).round(2)\n",
    "pct_de_vendas[:10]"
   ]
  },
  {
   "cell_type": "markdown",
   "metadata": {},
   "source": [
    "Aqui está a aparência dos primeiros 10 itens."
   ]
  },
  {
   "cell_type": "code",
   "execution_count": 11,
   "metadata": {},
   "outputs": [
    {
     "data": {
      "text/plain": [
       "Text(0.5, 1.0, 'distribuição da porcentagem de vendas')"
      ]
     },
     "execution_count": 11,
     "metadata": {},
     "output_type": "execute_result"
    },
    {
     "data": {
      "image/png": "[encoded data removed]",
      "text/plain": [
       "<Figure size 432x288 with 1 Axes>"
      ]
     },
     "metadata": {
      "needs_background": "light"
     },
     "output_type": "display_data"
    }
   ],
   "source": [
    "%matplotlib inline\n",
    "import matplotlib.pyplot as plt\n",
    "\n",
    "plt.hist(pct_de_vendas)\n",
    "plt.title('distribuição da porcentagem de vendas')"
   ]
  },
  {
   "cell_type": "markdown",
   "metadata": {},
   "source": [
    "Há um outro valor que precisamos simular e é a meta real de vendas. Para ilustrar uma distribuição diferente, vamos supor que nossa distribuição de meta de vendas seja definida em 1 de 6 intervalos e a frequência fica mais baixa à medida que o valor aumenta. Essa distribuição pode ser indicativa de um processo de definição de metas muito simples, em que os indivíduos são agrupados em determinados grupos e recebem metas consistentemente com base em sua posse, tamanho do território ou pipeline de vendas.\n",
    "\n",
    "Por causa deste exemplo, usaremos uma distribuição uniforme, mas atribuiremos taxas de probabilidade mais baixas para alguns dos valores.\n",
    "\n",
    "Aqui está como podemos construir isso usando numpy.random.choice"
   ]
  },
  {
   "cell_type": "code",
   "execution_count": 13,
   "metadata": {},
   "outputs": [
    {
     "data": {
      "text/plain": [
       "Text(0.5, 1.0, 'distribuição da meta de vendas')"
      ]
     },
     "execution_count": 13,
     "metadata": {},
     "output_type": "execute_result"
    },
    {
     "data": {
      "image/png": "[encoded data removed]",
      "text/plain": [
       "<Figure size 432x288 with 1 Axes>"
      ]
     },
     "metadata": {
      "needs_background": "light"
     },
     "output_type": "display_data"
    }
   ],
   "source": [
    "meta_de_vendas_val = [75_000, 100_000, 200_000, 300_000, 400_000, 500_000]\n",
    "meta_de_vendas_prob = [.3, .3, .2, .1, .05, .05]\n",
    "meta_de_vendas = np.random.choice(meta_de_vendas_val, num_reps, p=meta_de_vendas_prob)\n",
    "\n",
    "plt.hist(meta_de_vendas)\n",
    "plt.title('distribuição da meta de vendas')"
   ]
  },
  {
   "cell_type": "markdown",
   "metadata": {},
   "source": [
    "Agora que sabemos como criar nossas duas distribuições de entrada, vamos construir um dataframe do pandas:"
   ]
  },
  {
   "cell_type": "code",
   "execution_count": 14,
   "metadata": {},
   "outputs": [
    {
     "data": {
      "text/html": [
       "<div>\n",
       "<style scoped>\n",
       "    .dataframe tbody tr th:only-of-type {\n",
       "        vertical-align: middle;\n",
       "    }\n",
       "\n",
       "    .dataframe tbody tr th {\n",
       "        vertical-align: top;\n",
       "    }\n",
       "\n",
       "    .dataframe thead th {\n",
       "        text-align: right;\n",
       "    }\n",
       "</style>\n",
       "<table border=\"1\" class=\"dataframe\">\n",
       "  <thead>\n",
       "    <tr style=\"text-align: right;\">\n",
       "      <th></th>\n",
       "      <th>Pct de vendas</th>\n",
       "      <th>meta de vendas</th>\n",
       "      <th>vendas</th>\n",
       "    </tr>\n",
       "  </thead>\n",
       "  <tbody>\n",
       "    <tr>\n",
       "      <th>0</th>\n",
       "      <td>0.95</td>\n",
       "      <td>100000</td>\n",
       "      <td>95000.0</td>\n",
       "    </tr>\n",
       "    <tr>\n",
       "      <th>1</th>\n",
       "      <td>1.06</td>\n",
       "      <td>100000</td>\n",
       "      <td>106000.0</td>\n",
       "    </tr>\n",
       "    <tr>\n",
       "      <th>2</th>\n",
       "      <td>1.01</td>\n",
       "      <td>100000</td>\n",
       "      <td>101000.0</td>\n",
       "    </tr>\n",
       "    <tr>\n",
       "      <th>3</th>\n",
       "      <td>0.95</td>\n",
       "      <td>75000</td>\n",
       "      <td>71250.0</td>\n",
       "    </tr>\n",
       "    <tr>\n",
       "      <th>4</th>\n",
       "      <td>0.99</td>\n",
       "      <td>75000</td>\n",
       "      <td>74250.0</td>\n",
       "    </tr>\n",
       "  </tbody>\n",
       "</table>\n",
       "</div>"
      ],
      "text/plain": [
       "   Pct de vendas  meta de vendas    vendas\n",
       "0           0.95          100000   95000.0\n",
       "1           1.06          100000  106000.0\n",
       "2           1.01          100000  101000.0\n",
       "3           0.95           75000   71250.0\n",
       "4           0.99           75000   74250.0"
      ]
     },
     "execution_count": 14,
     "metadata": {},
     "output_type": "execute_result"
    }
   ],
   "source": [
    "df = pd.DataFrame(index=range(num_reps), data={'Pct de vendas': pct_de_vendas,\n",
    "                                               'meta de vendas': meta_de_vendas})\n",
    "\n",
    "df['vendas'] = df['Pct de vendas'] * df['meta de vendas']\n",
    "df.head()"
   ]
  },
  {
   "cell_type": "markdown",
   "metadata": {},
   "source": [
    "Você pode notar que fiz um pequeno truque para calcular o valor real das vendas. Para esse problema, o valor real das vendas pode mudar muito com o passar dos anos, mas a distribuição do desempenho permanece incrivelmente consistente. Portanto, estou usando as distribuições aleatórias para gerar minhas entradas e apoiar as vendas reais.\n",
    "\n",
    "NA parte final precisamos criar é uma maneira de mapear nossa Pct. de vendas para a  taxa de comissão. Aqui está a função:"
   ]
  },
  {
   "cell_type": "code",
   "execution_count": 15,
   "metadata": {},
   "outputs": [],
   "source": [
    "def calc_taxa_comissao(x):\n",
    "    \"\"\" Retorna a taxa de comissão baseada na tabela:\n",
    "    0-90% = 2%\n",
    "    91-99% = 3%\n",
    "    >= 100 = 4%\n",
    "    \"\"\"\n",
    "    if x <= .90:\n",
    "        return .02\n",
    "    if x <= .99:\n",
    "        return .03\n",
    "    else:\n",
    "        return .04"
   ]
  },
  {
   "cell_type": "markdown",
   "metadata": {},
   "source": [
    "O benefício adicional de usar python em vez de Excel é que podemos criar uma lógica muito mais complexa que é mais fácil de entender do que se tentássemos construir uma instrução if aninhada complexa no Excel.\n",
    "\n",
    "Agora criamos nossa taxa de comissão e a multiplicamos pelas vendas:"
   ]
  },
  {
   "cell_type": "code",
   "execution_count": 17,
   "metadata": {},
   "outputs": [
    {
     "data": {
      "text/html": [
       "<div>\n",
       "<style scoped>\n",
       "    .dataframe tbody tr th:only-of-type {\n",
       "        vertical-align: middle;\n",
       "    }\n",
       "\n",
       "    .dataframe tbody tr th {\n",
       "        vertical-align: top;\n",
       "    }\n",
       "\n",
       "    .dataframe thead th {\n",
       "        text-align: right;\n",
       "    }\n",
       "</style>\n",
       "<table border=\"1\" class=\"dataframe\">\n",
       "  <thead>\n",
       "    <tr style=\"text-align: right;\">\n",
       "      <th></th>\n",
       "      <th>Pct de vendas</th>\n",
       "      <th>meta de vendas</th>\n",
       "      <th>vendas</th>\n",
       "      <th>taxa de comissão</th>\n",
       "      <th>montante de comissão</th>\n",
       "    </tr>\n",
       "  </thead>\n",
       "  <tbody>\n",
       "    <tr>\n",
       "      <th>0</th>\n",
       "      <td>0.95</td>\n",
       "      <td>100000</td>\n",
       "      <td>95000.0</td>\n",
       "      <td>0.03</td>\n",
       "      <td>2850.0</td>\n",
       "    </tr>\n",
       "    <tr>\n",
       "      <th>1</th>\n",
       "      <td>1.06</td>\n",
       "      <td>100000</td>\n",
       "      <td>106000.0</td>\n",
       "      <td>0.04</td>\n",
       "      <td>4240.0</td>\n",
       "    </tr>\n",
       "    <tr>\n",
       "      <th>2</th>\n",
       "      <td>1.01</td>\n",
       "      <td>100000</td>\n",
       "      <td>101000.0</td>\n",
       "      <td>0.04</td>\n",
       "      <td>4040.0</td>\n",
       "    </tr>\n",
       "    <tr>\n",
       "      <th>3</th>\n",
       "      <td>0.95</td>\n",
       "      <td>75000</td>\n",
       "      <td>71250.0</td>\n",
       "      <td>0.03</td>\n",
       "      <td>2137.5</td>\n",
       "    </tr>\n",
       "    <tr>\n",
       "      <th>4</th>\n",
       "      <td>0.99</td>\n",
       "      <td>75000</td>\n",
       "      <td>74250.0</td>\n",
       "      <td>0.03</td>\n",
       "      <td>2227.5</td>\n",
       "    </tr>\n",
       "  </tbody>\n",
       "</table>\n",
       "</div>"
      ],
      "text/plain": [
       "   Pct de vendas  meta de vendas    vendas  taxa de comissão  \\\n",
       "0           0.95          100000   95000.0              0.03   \n",
       "1           1.06          100000  106000.0              0.04   \n",
       "2           1.01          100000  101000.0              0.04   \n",
       "3           0.95           75000   71250.0              0.03   \n",
       "4           0.99           75000   74250.0              0.03   \n",
       "\n",
       "   montante de comissão  \n",
       "0                2850.0  \n",
       "1                4240.0  \n",
       "2                4040.0  \n",
       "3                2137.5  \n",
       "4                2227.5  "
      ]
     },
     "execution_count": 17,
     "metadata": {},
     "output_type": "execute_result"
    }
   ],
   "source": [
    "df['taxa de comissão'] = df['Pct de vendas'].apply(calc_taxa_comissao)\n",
    "df['montante de comissão'] = df['taxa de comissão'] * df['vendas']\n",
    "df.head()"
   ]
  },
  {
   "cell_type": "markdown",
   "metadata": {},
   "source": [
    "Aí está!\n",
    "\n",
    "Nós replicamos um modelo semelhante ao que teríamos feito no Excel, mas usamos algumas distribuições mais sofisticadas do que apenas jogar um monte de entradas de números aleatórios no problema.\n",
    "\n",
    "### Vamos fazer loop\n",
    "A verdadeira “mágica” da simulação de Monte Carlo é que, se executarmos uma simulação muitas vezes, começaremos a desenvolver uma imagem da provável distribuição dos resultados. No Excel, você precisaria do VBA ou outro plug-in para executar várias iterações. Em python, podemos usar um for loop para executar quantas simulações quisermos.\n",
    "\n",
    "Além de executar cada simulação, salvamos os resultados de nosso interesse em uma lista que transformaremos em um dataframe para análise posterior da distribuição dos resultados.\n",
    "\n",
    "Aqui está o código de loop for completo:\n"
   ]
  },
  {
   "cell_type": "code",
   "execution_count": 18,
   "metadata": {},
   "outputs": [],
   "source": [
    "# Defina uma lista para manter todos os resultados de cada simulação que queremos analisar \n",
    "resultados = []\n",
    "\n",
    "# Loop através de muitas simulações \n",
    "for i in range(num_simulações):\n",
    "\n",
    "    # Escolha entradas aleatórias para as metas de vendas e porcentagem para a meta \n",
    "    meta_de_vendas = np.random.choice(meta_de_vendas_val, num_reps, p=meta_de_vendas_prob)\n",
    "    pct_de_vendas = np.random.normal(média, std_dev, num_reps).round(2)\n",
    "\n",
    "    # Construa o dataframe com base nas entradas e no número de repetições \n",
    "    df = pd.DataFrame(index=range(num_reps), data={'Pct de vendas': pct_de_vendas,\n",
    "                                               'meta de vendas': meta_de_vendas})\n",
    "\n",
    "    # Voltar para o número de vendas usando a porcentagem da taxa alvo \n",
    "    df['vendas'] = df['Pct de vendas'] * df['meta de vendas']\n",
    "\n",
    "    # Determine a taxa de comissões\n",
    "    df['taxa de comissão'] = df['Pct de vendas'].apply(calc_taxa_comissao)\n",
    "    df['montante de comissão'] = df['taxa de comissão'] * df['vendas']\n",
    "\n",
    "    # Queremos rastrear vendas, valores de comissão e metas de vendas em todas as simulações \n",
    "    resultados.append([df['vendas'].sum().round(0),\n",
    "                      df['montante de comissão'].sum().round(0),\n",
    "                      df['meta de vendas'].sum().round(0)])"
   ]
  },
  {
   "cell_type": "markdown",
   "metadata": {},
   "source": [
    "Embora isso possa parecer um pouco intimidante no início, estamos incluindo apenas 7 instruções python dentro desse loop que podemos executar quantas vezes quisermos. Em algum ponto, há retornos decrescentes. Os resultados de 1 milhão de simulações não são necessariamente mais úteis do que 10.000. Meu conselho é tentar diferentes quantidades e ver como a saída muda.\n",
    "\n",
    "Para analisar os resultados da simulação, irei construir um dataframe:"
   ]
  },
  {
   "cell_type": "code",
   "execution_count": 19,
   "metadata": {},
   "outputs": [
    {
     "data": {
      "text/html": [
       "<style  type=\"text/css\" >\n",
       "</style><table id=\"T_5a8343a6_c0b2_11eb_a711_e7284521d6fe\" ><thead>    <tr>        <th class=\"blank level0\" ></th>        <th class=\"col_heading level0 col0\" >vendas</th>        <th class=\"col_heading level0 col1\" >montante de comissão</th>        <th class=\"col_heading level0 col2\" >meta de vendas</th>    </tr></thead><tbody>\n",
       "                <tr>\n",
       "                        <th id=\"T_5a8343a6_c0b2_11eb_a711_e7284521d6felevel0_row0\" class=\"row_heading level0 row0\" >count</th>\n",
       "                        <td id=\"T_5a8343a6_c0b2_11eb_a711_e7284521d6ferow0_col0\" class=\"data row0 col0\" >1,000.0</td>\n",
       "                        <td id=\"T_5a8343a6_c0b2_11eb_a711_e7284521d6ferow0_col1\" class=\"data row0 col1\" >1,000.0</td>\n",
       "                        <td id=\"T_5a8343a6_c0b2_11eb_a711_e7284521d6ferow0_col2\" class=\"data row0 col2\" >1,000.0</td>\n",
       "            </tr>\n",
       "            <tr>\n",
       "                        <th id=\"T_5a8343a6_c0b2_11eb_a711_e7284521d6felevel0_row1\" class=\"row_heading level0 row1\" >mean</th>\n",
       "                        <td id=\"T_5a8343a6_c0b2_11eb_a711_e7284521d6ferow1_col0\" class=\"data row1 col0\" >83,824,728.5</td>\n",
       "                        <td id=\"T_5a8343a6_c0b2_11eb_a711_e7284521d6ferow1_col1\" class=\"data row1 col1\" >2,862,557.271</td>\n",
       "                        <td id=\"T_5a8343a6_c0b2_11eb_a711_e7284521d6ferow1_col2\" class=\"data row1 col2\" >83,830,075.0</td>\n",
       "            </tr>\n",
       "            <tr>\n",
       "                        <th id=\"T_5a8343a6_c0b2_11eb_a711_e7284521d6felevel0_row2\" class=\"row_heading level0 row2\" >std</th>\n",
       "                        <td id=\"T_5a8343a6_c0b2_11eb_a711_e7284521d6ferow2_col0\" class=\"data row2 col0\" >2,629,769.3381615262</td>\n",
       "                        <td id=\"T_5a8343a6_c0b2_11eb_a711_e7284521d6ferow2_col1\" class=\"data row2 col1\" >99,625.16872491114</td>\n",
       "                        <td id=\"T_5a8343a6_c0b2_11eb_a711_e7284521d6ferow2_col2\" class=\"data row2 col2\" >2,612,853.9233948765</td>\n",
       "            </tr>\n",
       "            <tr>\n",
       "                        <th id=\"T_5a8343a6_c0b2_11eb_a711_e7284521d6felevel0_row3\" class=\"row_heading level0 row3\" >min</th>\n",
       "                        <td id=\"T_5a8343a6_c0b2_11eb_a711_e7284521d6ferow3_col0\" class=\"data row3 col0\" >75,975,250.0</td>\n",
       "                        <td id=\"T_5a8343a6_c0b2_11eb_a711_e7284521d6ferow3_col1\" class=\"data row3 col1\" >2,566,462.0</td>\n",
       "                        <td id=\"T_5a8343a6_c0b2_11eb_a711_e7284521d6ferow3_col2\" class=\"data row3 col2\" >75,775,000.0</td>\n",
       "            </tr>\n",
       "            <tr>\n",
       "                        <th id=\"T_5a8343a6_c0b2_11eb_a711_e7284521d6felevel0_row4\" class=\"row_heading level0 row4\" >25%</th>\n",
       "                        <td id=\"T_5a8343a6_c0b2_11eb_a711_e7284521d6ferow4_col0\" class=\"data row4 col0\" >82,128,250.0</td>\n",
       "                        <td id=\"T_5a8343a6_c0b2_11eb_a711_e7284521d6ferow4_col1\" class=\"data row4 col1\" >2,795,669.5</td>\n",
       "                        <td id=\"T_5a8343a6_c0b2_11eb_a711_e7284521d6ferow4_col2\" class=\"data row4 col2\" >82,075,000.0</td>\n",
       "            </tr>\n",
       "            <tr>\n",
       "                        <th id=\"T_5a8343a6_c0b2_11eb_a711_e7284521d6felevel0_row5\" class=\"row_heading level0 row5\" >50%</th>\n",
       "                        <td id=\"T_5a8343a6_c0b2_11eb_a711_e7284521d6ferow5_col0\" class=\"data row5 col0\" >83,930,750.0</td>\n",
       "                        <td id=\"T_5a8343a6_c0b2_11eb_a711_e7284521d6ferow5_col1\" class=\"data row5 col1\" >2,864,150.0</td>\n",
       "                        <td id=\"T_5a8343a6_c0b2_11eb_a711_e7284521d6ferow5_col2\" class=\"data row5 col2\" >83,900,000.0</td>\n",
       "            </tr>\n",
       "            <tr>\n",
       "                        <th id=\"T_5a8343a6_c0b2_11eb_a711_e7284521d6felevel0_row6\" class=\"row_heading level0 row6\" >75%</th>\n",
       "                        <td id=\"T_5a8343a6_c0b2_11eb_a711_e7284521d6ferow6_col0\" class=\"data row6 col0\" >85,633,125.0</td>\n",
       "                        <td id=\"T_5a8343a6_c0b2_11eb_a711_e7284521d6ferow6_col1\" class=\"data row6 col1\" >2,927,217.5</td>\n",
       "                        <td id=\"T_5a8343a6_c0b2_11eb_a711_e7284521d6ferow6_col2\" class=\"data row6 col2\" >85,625,000.0</td>\n",
       "            </tr>\n",
       "            <tr>\n",
       "                        <th id=\"T_5a8343a6_c0b2_11eb_a711_e7284521d6felevel0_row7\" class=\"row_heading level0 row7\" >max</th>\n",
       "                        <td id=\"T_5a8343a6_c0b2_11eb_a711_e7284521d6ferow7_col0\" class=\"data row7 col0\" >92,307,500.0</td>\n",
       "                        <td id=\"T_5a8343a6_c0b2_11eb_a711_e7284521d6ferow7_col1\" class=\"data row7 col1\" >3,276,472.0</td>\n",
       "                        <td id=\"T_5a8343a6_c0b2_11eb_a711_e7284521d6ferow7_col2\" class=\"data row7 col2\" >91,600,000.0</td>\n",
       "            </tr>\n",
       "    </tbody></table>"
      ],
      "text/plain": [
       "<pandas.io.formats.style.Styler at 0x7fa570b08d60>"
      ]
     },
     "execution_count": 19,
     "metadata": {},
     "output_type": "execute_result"
    }
   ],
   "source": [
    "resultados_df = pd.DataFrame.from_records(resultados, columns=['vendas',\n",
    "                                                           'montante de comissão',\n",
    "                                                           'meta de vendas'])\n",
    "resultados_df.describe().style.format('{:,}')"
   ]
  },
  {
   "cell_type": "markdown",
   "metadata": {},
   "source": [
    "Graficamente, é assim:"
   ]
  },
  {
   "cell_type": "code",
   "execution_count": 21,
   "metadata": {},
   "outputs": [],
   "source": [
    "# Função da documentação do matplotlib para formatar números na casa dos milhões\n",
    "def millions(x, pos):\n",
    "    \"\"\"The two args are the value and tick position.\"\"\"\n",
    "    return 'R${:1.1f}M'.format(x*1e-6)"
   ]
  },
  {
   "cell_type": "code",
   "execution_count": 23,
   "metadata": {},
   "outputs": [
    {
     "data": {
      "image/png": "[encoded data removed]",
      "text/plain": [
       "<Figure size 432x288 with 1 Axes>"
      ]
     },
     "metadata": {
      "needs_background": "light"
     },
     "output_type": "display_data"
    }
   ],
   "source": [
    "fig, ax = plt.subplots()\n",
    "ax.xaxis.set_major_formatter(millions)\n",
    "ax.hist(resultados_df['montante de comissão'])\n",
    "ax.set(title='distribuição do montante de comissão')\n",
    "plt.show()"
   ]
  },
  {
   "cell_type": "markdown",
   "metadata": {},
   "source": [
    "Então, o que este gráfico e a saída de describe nos dizem? Podemos ver que a despesa média com comissões é de 2,85 milhões e o desvio padrão é de 103.000. Também podemos ver que o pagamento de comissões pode ser tão baixo quanto  2,5 milhões ou tão alto quanto 3,2 milhões.\n",
    "\n",
    "Com base nesses resultados, você se sente confortável com o fato de que as despesas com comissões serão inferiores a 3 milhões? Ou, se alguém disser: “Vamos fazer um orçamento de apenas 2,7 milhões”, você se sentiria confortável com o fato de que suas despesas ficariam abaixo desse valor? Provavelmente não.\n",
    "\n",
    "É aí que está um dos benefícios da simulação de Monte Carlo. Você desenvolve uma melhor compreensão da distribuição dos resultados prováveis ​​e pode usar esse conhecimento, além de sua perspicácia de negócios para fazer uma estimativa informada.\n",
    "\n",
    "O outro valor desse modelo é que você pode modelar muitas suposições diferentes e ver o que acontece. Aqui estão algumas mudanças simples que você pode fazer para ver como os resultados mudam:\n",
    "\n",
    "* Aumente a taxa de comissão superior para 5%\n",
    "* Diminuir o número de vendedores\n",
    "* Altere o desvio padrão esperado para um valor maior\n",
    "* Modifique a distribuição de alvos\n",
    "\n",
    "Outra observação sobre as simulações de Monte Carlo é que elas são relativamente fáceis de explicar ao usuário final da previsão. A pessoa que recebe essa estimativa pode não ter uma formação matemática profunda, mas pode compreender intuitivamente o que esta simulação está fazendo e como avaliar a probabilidade da gama de resultados potenciais."
   ]
  },
  {
   "cell_type": "code",
   "execution_count": null,
   "metadata": {},
   "outputs": [],
   "source": []
  }
 ],
 "metadata": {
  "kernelspec": {
   "display_name": "Python 3",
   "language": "python",
   "name": "python3"
  },
  "language_info": {
   "codemirror_mode": {
    "name": "ipython",
    "version": 3
   },
   "file_extension": ".py",
   "mimetype": "text/x-python",
   "name": "python",
   "nbconvert_exporter": "python",
   "pygments_lexer": "ipython3",
   "version": "3.8.5"
  }
 },
 "nbformat": 4,
 "nbformat_minor": 4
}
